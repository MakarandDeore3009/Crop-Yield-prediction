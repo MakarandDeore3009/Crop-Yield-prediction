{
  "nbformat": 4,
  "nbformat_minor": 0,
  "metadata": {
    "colab": {
      "provenance": []
    },
    "kernelspec": {
      "name": "python3",
      "display_name": "Python 3"
    },
    "language_info": {
      "name": "python"
    }
  },
  "cells": [
    {
      "cell_type": "code",
      "execution_count": 2,
      "metadata": {
        "colab": {
          "base_uri": "https://localhost:8080/"
        },
        "id": "fXdB2N3WCHWX",
        "outputId": "87a8eee3-4d48-42e6-a2b1-953b1bdbb6d5"
      },
      "outputs": [
        {
          "output_type": "stream",
          "name": "stdout",
          "text": [
            "Original shape: (19689, 9)\n",
            "Processed shape: (19689, 97)\n"
          ]
        }
      ],
      "source": [
        "import pandas as pd\n",
        "from sklearn.preprocessing import StandardScaler, OneHotEncoder\n",
        "from sklearn.compose import ColumnTransformer\n",
        "from sklearn.pipeline import Pipeline\n",
        "\n",
        "# Load dataset\n",
        "df = pd.read_csv(\"crop_yield.csv\")\n",
        "\n",
        "# Features and target\n",
        "features = ['Crop', 'Crop_Year', 'Season', 'State',\n",
        "            'Area', 'Production', 'Annual_Rainfall', 'Fertilizer', 'Pesticide']\n",
        "target = 'Yield'\n",
        "\n",
        "X = df[features]\n",
        "y = df[target]\n",
        "\n",
        "# Separate numeric and categorical columns\n",
        "numeric_features = ['Crop_Year', 'Area', 'Production',\n",
        "                    'Annual_Rainfall', 'Fertilizer', 'Pesticide']\n",
        "categorical_features = ['Crop', 'Season', 'State']\n",
        "\n",
        "# Preprocessing pipeline: scale numeric + one-hot encode categorical\n",
        "preprocessor = ColumnTransformer(transformers=[\n",
        "    ('num', StandardScaler(), numeric_features),\n",
        "    ('cat', OneHotEncoder(handle_unknown='ignore'), categorical_features)\n",
        "])\n",
        "\n",
        "# Apply preprocessing\n",
        "X_processed = preprocessor.fit_transform(X)\n",
        "\n",
        "print(\"Original shape:\", X.shape)\n",
        "print(\"Processed shape:\", X_processed.shape)\n"
      ]
    },
    {
      "cell_type": "code",
      "source": [],
      "metadata": {
        "id": "ztfI17d8CtRm"
      },
      "execution_count": null,
      "outputs": []
    }
  ]
}